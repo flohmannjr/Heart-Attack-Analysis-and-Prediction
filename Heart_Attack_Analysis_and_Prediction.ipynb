{
  "nbformat": 4,
  "nbformat_minor": 0,
  "metadata": {
    "colab": {
      "provenance": [],
      "toc_visible": true,
      "include_colab_link": true
    },
    "kernelspec": {
      "name": "python3",
      "display_name": "Python 3"
    },
    "language_info": {
      "name": "python"
    },
    "gpuClass": "standard",
    "accelerator": "GPU"
  },
  "cells": [
    {
      "cell_type": "markdown",
      "metadata": {
        "id": "view-in-github",
        "colab_type": "text"
      },
      "source": [
        "<a href=\"https://colab.research.google.com/github/flohmannjr/Heart-Attack-Analysis-and-Prediction/blob/main/Heart_Attack_Analysis_and_Prediction.ipynb\" target=\"_parent\"><img src=\"https://colab.research.google.com/assets/colab-badge.svg\" alt=\"Open In Colab\"/></a>"
      ]
    },
    {
      "cell_type": "markdown",
      "source": [
        "# Heart Attack Analysis and Prediction"
      ],
      "metadata": {
        "id": "B41k7b2v4MkB"
      }
    },
    {
      "cell_type": "markdown",
      "source": [
        "https://www.kaggle.com/datasets/rashikrahmanpritom/heart-attack-analysis-prediction-dataset"
      ],
      "metadata": {
        "id": "CbScV9jKQ1Fc"
      }
    },
    {
      "cell_type": "markdown",
      "source": [
        "# Imports"
      ],
      "metadata": {
        "id": "0K3ZOQjZ4zh8"
      }
    },
    {
      "cell_type": "code",
      "source": [
        "import numpy as np\n",
        "import pandas as pd\n",
        "\n",
        "import matplotlib.pyplot as plt\n",
        "import seaborn as sns\n",
        "\n",
        "from sklearn.metrics import classification_report, ConfusionMatrixDisplay\n",
        "from sklearn.model_selection import GridSearchCV, train_test_split\n",
        "from sklearn.preprocessing import MinMaxScaler, StandardScaler\n",
        "\n",
        "from sklearn.linear_model import RidgeClassifier\n",
        "from sklearn.neighbors import KNeighborsClassifier\n",
        "from sklearn.neural_network import MLPClassifier\n",
        "from sklearn.svm import SVC\n",
        "from sklearn.tree import DecisionTreeClassifier\n",
        "\n",
        "import tensorflow as tf\n",
        "\n",
        "from tensorflow.data import AUTOTUNE, Dataset\n",
        "from tensorflow.keras import Sequential\n",
        "from tensorflow.keras.callbacks import EarlyStopping, ReduceLROnPlateau\n",
        "from tensorflow.keras.layers import Dense\n",
        "from tensorflow.keras.metrics import Recall\n",
        "from tensorflow.keras.optimizers import SGD"
      ],
      "metadata": {
        "id": "s-jMaS2_4PN0"
      },
      "execution_count": 1,
      "outputs": []
    },
    {
      "cell_type": "markdown",
      "source": [
        "# Setup"
      ],
      "metadata": {
        "id": "5M4GS5Bm4vhh"
      }
    },
    {
      "cell_type": "code",
      "source": [
        "plt.rcParams['figure.figsize'] = [8, 5]\n",
        "plt.rcParams['figure.dpi'] = 100\n",
        "\n",
        "plt.style.use('seaborn-darkgrid')\n",
        "\n",
        "SEED = 0\n",
        "\n",
        "SEX_LABELS = ['Female', 'Male']"
      ],
      "metadata": {
        "id": "yyXYznnk4i4k"
      },
      "execution_count": 2,
      "outputs": []
    },
    {
      "cell_type": "markdown",
      "source": [
        "## TensorFlow hyperparameters"
      ],
      "metadata": {
        "id": "m_xQicbFGVi4"
      }
    },
    {
      "cell_type": "code",
      "source": [
        "BATCH_SIZE = 32\n",
        "\n",
        "LAYERS = 4\n",
        "\n",
        "LAYER_UNITS       = 120\n",
        "LAYER_INITIALIZER = 'he_uniform'\n",
        "LAYER_ACTIVATION  = 'relu'\n",
        "\n",
        "OUTPUT_UNITS      = 1\n",
        "OUTPUT_ACTIVATION = 'sigmoid'\n",
        "\n",
        "LOSS          = 'binary_crossentropy'\n",
        "OPTIMIZER     = SGD\n",
        "LEARNING_RATE = 0.001\n",
        "METRICS       = [Recall()]\n",
        "\n",
        "EPOCHS = 1000"
      ],
      "metadata": {
        "id": "3LIIjx51GblT"
      },
      "execution_count": 3,
      "outputs": []
    },
    {
      "cell_type": "markdown",
      "source": [
        "## Functions"
      ],
      "metadata": {
        "id": "yfidP-GhHE5O"
      }
    },
    {
      "cell_type": "code",
      "source": [
        "def get_df_output(feature):\n",
        "\n",
        "    if(type(feature) == list):\n",
        "        features = feature.copy()\n",
        "    else:\n",
        "        features = []\n",
        "        features.append(feature)\n",
        "\n",
        "    features.append('output')\n",
        "\n",
        "    df_output = df[features].groupby(by=feature).agg(['count', 'sum', 'mean'])\n",
        "\n",
        "    # df_output.columns = ['_'.join(col) for col in df_output.columns.values]\n",
        "    df_output.columns = df_output.columns.get_level_values(1)\n",
        "\n",
        "    df_output.reset_index(inplace=True)\n",
        "\n",
        "    return df_output"
      ],
      "metadata": {
        "id": "ypONbfF5jm_V"
      },
      "execution_count": 4,
      "outputs": []
    },
    {
      "cell_type": "code",
      "source": [
        "def heart_attack_by_sex(feature, xlabel, xtickslabels=None):\n",
        "\n",
        "    df_output = get_df_output([feature, 'sex'])\n",
        "\n",
        "    ax = sns.barplot(data=df_output, x=feature, y='mean', hue='sex', palette='summer_r')\n",
        "\n",
        "    plt.title('')\n",
        "    plt.xlabel(xlabel)\n",
        "    plt.ylabel('Chance of heart attack ratio')\n",
        "\n",
        "    if xtickslabels != None:\n",
        "        plt.xticks(ticks=range(len(xtickslabels)), labels=xtickslabels)\n",
        "\n",
        "    # sns.barplot has a bug about losing legend colors if you don't inform handles and labels together.\n",
        "    handles, _ = ax.get_legend_handles_labels()\n",
        "\n",
        "    plt.legend(loc=(1.03, 0.88), frameon=True, facecolor='white', handles=handles, labels=SEX_LABELS)\n",
        "\n",
        "    plt.show()"
      ],
      "metadata": {
        "id": "VHkewCJSHGLE"
      },
      "execution_count": 5,
      "outputs": []
    },
    {
      "cell_type": "code",
      "source": [
        "def evaluate_model(y_true, y_pred, show_reports=False, cmap='summer_r'):\n",
        "\n",
        "    if show_reports:\n",
        "        print(classification_report(y_true, y_pred))\n",
        "\n",
        "        ConfusionMatrixDisplay.from_predictions(y_true, y_pred, cmap=cmap)\n",
        "        plt.grid(False)\n",
        "\n",
        "    report = classification_report(y_true, y_pred, output_dict=True)\n",
        "\n",
        "    return {'accuracy': report['accuracy'],\n",
        "            'precision': report['weighted avg']['precision'],\n",
        "            'recall': report['weighted avg']['recall'],\n",
        "            'f1-score': report['weighted avg']['f1-score']}"
      ],
      "metadata": {
        "id": "8KcpoqGQd_wO"
      },
      "execution_count": 6,
      "outputs": []
    },
    {
      "cell_type": "code",
      "source": [
        "def get_ensemble(train_data, validation_data, n_models=10):\n",
        "\n",
        "    ensemble_models = []\n",
        "\n",
        "    for m in range(n_models):\n",
        "\n",
        "        model = Sequential()\n",
        "\n",
        "        [model.add(Dense(units=LAYER_UNITS, kernel_initializer=LAYER_INITIALIZER, activation=LAYER_ACTIVATION)) for _ in range(LAYERS)]\n",
        "        model.add(Dense(units=OUTPUT_UNITS, activation=OUTPUT_ACTIVATION))\n",
        "\n",
        "        model.compile(loss=LOSS,\n",
        "                      optimizer=OPTIMIZER(learning_rate=LEARNING_RATE),\n",
        "                      metrics=METRICS)\n",
        "\n",
        "        model.fit(dataset_train,\n",
        "                  epochs=EPOCHS,\n",
        "                  validation_data=dataset_test,\n",
        "                  callbacks=[EarlyStopping(monitor='val_loss', patience=100, restore_best_weights=True),\n",
        "                             ReduceLROnPlateau(monitor='val_loss', patience=50)],\n",
        "                  verbose=0)\n",
        "        \n",
        "        ensemble_models.append(model)\n",
        "\n",
        "    return ensemble_models\n",
        "\n",
        "def get_preds(ensemble_models, validation_data):\n",
        "    \n",
        "    ensemble_preds = []\n",
        "\n",
        "    for model in ensemble_models:\n",
        "        ensemble_preds.append(model.predict(validation_data, verbose=0))\n",
        "    \n",
        "    return tf.constant(tf.squeeze(ensemble_preds))"
      ],
      "metadata": {
        "id": "dwmO12HRLvZ2"
      },
      "execution_count": 7,
      "outputs": []
    },
    {
      "cell_type": "markdown",
      "source": [
        "# Data"
      ],
      "metadata": {
        "id": "5UajZ8R74t1z"
      }
    },
    {
      "cell_type": "code",
      "source": [
        "df = pd.read_csv('https://raw.githubusercontent.com/flohmannjr/Heart-Attack-Analysis-and-Prediction/main/heart.csv')"
      ],
      "metadata": {
        "id": "Hl4XGjwg45Pz"
      },
      "execution_count": 8,
      "outputs": []
    },
    {
      "cell_type": "code",
      "source": [
        "df.info()"
      ],
      "metadata": {
        "colab": {
          "base_uri": "https://localhost:8080/"
        },
        "id": "-6v--oOi5BMb",
        "outputId": "98299f03-0567-4978-9c3b-0d5fd4e64ed8"
      },
      "execution_count": 9,
      "outputs": [
        {
          "output_type": "stream",
          "name": "stdout",
          "text": [
            "<class 'pandas.core.frame.DataFrame'>\n",
            "RangeIndex: 303 entries, 0 to 302\n",
            "Data columns (total 14 columns):\n",
            " #   Column    Non-Null Count  Dtype  \n",
            "---  ------    --------------  -----  \n",
            " 0   age       303 non-null    int64  \n",
            " 1   sex       303 non-null    int64  \n",
            " 2   cp        303 non-null    int64  \n",
            " 3   trtbps    303 non-null    int64  \n",
            " 4   chol      303 non-null    int64  \n",
            " 5   fbs       303 non-null    int64  \n",
            " 6   restecg   303 non-null    int64  \n",
            " 7   thalachh  303 non-null    int64  \n",
            " 8   exng      303 non-null    int64  \n",
            " 9   oldpeak   303 non-null    float64\n",
            " 10  slp       303 non-null    int64  \n",
            " 11  caa       303 non-null    int64  \n",
            " 12  thall     303 non-null    int64  \n",
            " 13  output    303 non-null    int64  \n",
            "dtypes: float64(1), int64(13)\n",
            "memory usage: 33.3 KB\n"
          ]
        }
      ]
    },
    {
      "cell_type": "markdown",
      "source": [
        "**Source**: Kaggle dataset and discussions\n",
        "\n",
        "* **age**: Age of the patient\n",
        "* **sex**: Sex of the patient\n",
        "    * 0 = female\n",
        "    * 1 = male\n",
        "* **cp**: Chest Pain type chest pain type\n",
        "    * 0 = asymptomatic\n",
        "    * 1 = typical angina\n",
        "    * 2 = atypical angina\n",
        "    * 3 = non-anginal pain\n",
        "* **trtbps**: resting blood pressure (in mm Hg)\n",
        "* **chol**: cholesterol in mg/dl fetched via BMI sensor\n",
        "* **fbs**: fasting blood sugar > 120 mg/dl (1 = true; 0 = false)\n",
        "* **restecg**: resting electrocardiographic results\n",
        "    * 0 = normal\n",
        "    * 1 = having ST-T wave abnormality (T wave inversions and/or ST elevation or depression of > 0.05 mV)\n",
        "    * 2 = showing probable or definite left ventricular hypertrophy by Estes' criteria\n",
        "* **thalachh**: maximum heart rate achieved\n",
        "* **exng**: exercise induced angina (1 = yes; 0 = no)\n",
        "* **oldpeak**: ST depression induced by exercise relative to rest\n",
        "* **slp**: the slope of the peak exercise ST segment\n",
        "    * 0 = downsloping\n",
        "    * 1 = flat\n",
        "    * 2 = upsloping\n",
        "* **caa**: number of major vessels (0-3) colored by flourosopy\n",
        "    * 4 = *null*\n",
        "* **thall**: thalium stress test result\n",
        "    * 0 = *null*\n",
        "    * 1 = fixed defect\n",
        "    * 2 = normal\n",
        "    * 3 = reversable defect\n",
        "* **output**: diagnosis of heart disease (angiographic disease status)\n",
        "    * 0 = < 50% diameter narrowing (less chance of heart attack)\n",
        "    * 1 = > 50% diameter narrowing (more chance of heart attack)\n"
      ],
      "metadata": {
        "id": "ut-lZSmg5edA"
      }
    },
    {
      "cell_type": "markdown",
      "source": [
        "## Preprocessing"
      ],
      "metadata": {
        "id": "1yZf_Sgut9q2"
      }
    },
    {
      "cell_type": "code",
      "source": [
        "# Drop rows with 'caa' = 4 = null\n",
        "df.drop(df[df['caa'] == 4].index, inplace=True)\n",
        "\n",
        "# Drop rows with 'thall' = 0 = null\n",
        "df.drop(df[df['thall'] == 0].index, inplace=True)"
      ],
      "metadata": {
        "id": "CUivIekquBmM"
      },
      "execution_count": 10,
      "outputs": []
    },
    {
      "cell_type": "code",
      "source": [
        "# Checking for duplicates\n",
        "df.duplicated().sum()"
      ],
      "metadata": {
        "colab": {
          "base_uri": "https://localhost:8080/"
        },
        "id": "MBe7kgSvnWs5",
        "outputId": "00f6b432-4382-4cd9-f59e-15db0b4246a6"
      },
      "execution_count": 11,
      "outputs": [
        {
          "output_type": "execute_result",
          "data": {
            "text/plain": [
              "0"
            ]
          },
          "metadata": {},
          "execution_count": 11
        }
      ]
    },
    {
      "cell_type": "code",
      "source": [
        "df['age_group']      = (np.ceil(df['age'] / 10) * 10).astype(int)\n",
        "df['trtbps_group']   = (np.ceil(df['trtbps'] / 10) * 10).astype(int)\n",
        "df['chol_group']     = (np.ceil(df['chol'] / 50) * 50).astype(int)\n",
        "df['thalachh_group'] = (np.ceil(df['thalachh'] / 10) * 10).astype(int)\n",
        "df['oldpeak_group']  = (np.ceil(df['oldpeak'])).astype(int)"
      ],
      "metadata": {
        "id": "8d44VcmQZEEa"
      },
      "execution_count": 12,
      "outputs": []
    },
    {
      "cell_type": "code",
      "source": [
        "df.describe()"
      ],
      "metadata": {
        "colab": {
          "base_uri": "https://localhost:8080/",
          "height": 364
        },
        "id": "nsBV9Whd5ITC",
        "outputId": "55f3427a-aa37-435a-9350-755b135cd596"
      },
      "execution_count": 13,
      "outputs": [
        {
          "output_type": "execute_result",
          "data": {
            "text/plain": [
              "              age         sex          cp     trtbps        chol        fbs  \\\n",
              "count  296.000000  296.000000  296.000000  296.00000  296.000000  296.00000   \n",
              "mean    54.523649    0.679054    0.959459  131.60473  247.155405    0.14527   \n",
              "std      9.059471    0.467631    1.034184   17.72662   51.977011    0.35297   \n",
              "min     29.000000    0.000000    0.000000   94.00000  126.000000    0.00000   \n",
              "25%     48.000000    0.000000    0.000000  120.00000  211.000000    0.00000   \n",
              "50%     56.000000    1.000000    1.000000  130.00000  242.500000    0.00000   \n",
              "75%     61.000000    1.000000    2.000000  140.00000  275.250000    0.00000   \n",
              "max     77.000000    1.000000    3.000000  200.00000  564.000000    1.00000   \n",
              "\n",
              "          restecg    thalachh        exng     oldpeak         slp         caa  \\\n",
              "count  296.000000  296.000000  296.000000  296.000000  296.000000  296.000000   \n",
              "mean     0.523649  149.560811    0.327703    1.059122    1.395270    0.679054   \n",
              "std      0.526692   22.970792    0.470171    1.166474    0.618235    0.939726   \n",
              "min      0.000000   71.000000    0.000000    0.000000    0.000000    0.000000   \n",
              "25%      0.000000  133.000000    0.000000    0.000000    1.000000    0.000000   \n",
              "50%      1.000000  152.500000    0.000000    0.800000    1.000000    0.000000   \n",
              "75%      1.000000  166.000000    1.000000    1.650000    2.000000    1.000000   \n",
              "max      2.000000  202.000000    1.000000    6.200000    2.000000    3.000000   \n",
              "\n",
              "            thall      output   age_group  trtbps_group  chol_group  \\\n",
              "count  296.000000  296.000000  296.000000    296.000000  296.000000   \n",
              "mean     2.327703    0.540541   59.155405    133.817568  271.959459   \n",
              "std      0.585743    0.499198    9.073868     17.734974   55.456916   \n",
              "min      1.000000    0.000000   30.000000    100.000000  150.000000   \n",
              "25%      2.000000    0.000000   50.000000    120.000000  250.000000   \n",
              "50%      2.000000    1.000000   60.000000    130.000000  250.000000   \n",
              "75%      3.000000    1.000000   70.000000    140.000000  300.000000   \n",
              "max      3.000000    1.000000   80.000000    200.000000  600.000000   \n",
              "\n",
              "       thalachh_group  oldpeak_group  \n",
              "count      296.000000     296.000000  \n",
              "mean       154.324324       1.358108  \n",
              "std         23.132988       1.294107  \n",
              "min         80.000000       0.000000  \n",
              "25%        140.000000       0.000000  \n",
              "50%        160.000000       1.000000  \n",
              "75%        170.000000       2.000000  \n",
              "max        210.000000       7.000000  "
            ],
            "text/html": [
              "\n",
              "  <div id=\"df-1e5c8d6c-2c65-4a2d-aae5-9bf8a041bbf2\">\n",
              "    <div class=\"colab-df-container\">\n",
              "      <div>\n",
              "<style scoped>\n",
              "    .dataframe tbody tr th:only-of-type {\n",
              "        vertical-align: middle;\n",
              "    }\n",
              "\n",
              "    .dataframe tbody tr th {\n",
              "        vertical-align: top;\n",
              "    }\n",
              "\n",
              "    .dataframe thead th {\n",
              "        text-align: right;\n",
              "    }\n",
              "</style>\n",
              "<table border=\"1\" class=\"dataframe\">\n",
              "  <thead>\n",
              "    <tr style=\"text-align: right;\">\n",
              "      <th></th>\n",
              "      <th>age</th>\n",
              "      <th>sex</th>\n",
              "      <th>cp</th>\n",
              "      <th>trtbps</th>\n",
              "      <th>chol</th>\n",
              "      <th>fbs</th>\n",
              "      <th>restecg</th>\n",
              "      <th>thalachh</th>\n",
              "      <th>exng</th>\n",
              "      <th>oldpeak</th>\n",
              "      <th>slp</th>\n",
              "      <th>caa</th>\n",
              "      <th>thall</th>\n",
              "      <th>output</th>\n",
              "      <th>age_group</th>\n",
              "      <th>trtbps_group</th>\n",
              "      <th>chol_group</th>\n",
              "      <th>thalachh_group</th>\n",
              "      <th>oldpeak_group</th>\n",
              "    </tr>\n",
              "  </thead>\n",
              "  <tbody>\n",
              "    <tr>\n",
              "      <th>count</th>\n",
              "      <td>296.000000</td>\n",
              "      <td>296.000000</td>\n",
              "      <td>296.000000</td>\n",
              "      <td>296.00000</td>\n",
              "      <td>296.000000</td>\n",
              "      <td>296.00000</td>\n",
              "      <td>296.000000</td>\n",
              "      <td>296.000000</td>\n",
              "      <td>296.000000</td>\n",
              "      <td>296.000000</td>\n",
              "      <td>296.000000</td>\n",
              "      <td>296.000000</td>\n",
              "      <td>296.000000</td>\n",
              "      <td>296.000000</td>\n",
              "      <td>296.000000</td>\n",
              "      <td>296.000000</td>\n",
              "      <td>296.000000</td>\n",
              "      <td>296.000000</td>\n",
              "      <td>296.000000</td>\n",
              "    </tr>\n",
              "    <tr>\n",
              "      <th>mean</th>\n",
              "      <td>54.523649</td>\n",
              "      <td>0.679054</td>\n",
              "      <td>0.959459</td>\n",
              "      <td>131.60473</td>\n",
              "      <td>247.155405</td>\n",
              "      <td>0.14527</td>\n",
              "      <td>0.523649</td>\n",
              "      <td>149.560811</td>\n",
              "      <td>0.327703</td>\n",
              "      <td>1.059122</td>\n",
              "      <td>1.395270</td>\n",
              "      <td>0.679054</td>\n",
              "      <td>2.327703</td>\n",
              "      <td>0.540541</td>\n",
              "      <td>59.155405</td>\n",
              "      <td>133.817568</td>\n",
              "      <td>271.959459</td>\n",
              "      <td>154.324324</td>\n",
              "      <td>1.358108</td>\n",
              "    </tr>\n",
              "    <tr>\n",
              "      <th>std</th>\n",
              "      <td>9.059471</td>\n",
              "      <td>0.467631</td>\n",
              "      <td>1.034184</td>\n",
              "      <td>17.72662</td>\n",
              "      <td>51.977011</td>\n",
              "      <td>0.35297</td>\n",
              "      <td>0.526692</td>\n",
              "      <td>22.970792</td>\n",
              "      <td>0.470171</td>\n",
              "      <td>1.166474</td>\n",
              "      <td>0.618235</td>\n",
              "      <td>0.939726</td>\n",
              "      <td>0.585743</td>\n",
              "      <td>0.499198</td>\n",
              "      <td>9.073868</td>\n",
              "      <td>17.734974</td>\n",
              "      <td>55.456916</td>\n",
              "      <td>23.132988</td>\n",
              "      <td>1.294107</td>\n",
              "    </tr>\n",
              "    <tr>\n",
              "      <th>min</th>\n",
              "      <td>29.000000</td>\n",
              "      <td>0.000000</td>\n",
              "      <td>0.000000</td>\n",
              "      <td>94.00000</td>\n",
              "      <td>126.000000</td>\n",
              "      <td>0.00000</td>\n",
              "      <td>0.000000</td>\n",
              "      <td>71.000000</td>\n",
              "      <td>0.000000</td>\n",
              "      <td>0.000000</td>\n",
              "      <td>0.000000</td>\n",
              "      <td>0.000000</td>\n",
              "      <td>1.000000</td>\n",
              "      <td>0.000000</td>\n",
              "      <td>30.000000</td>\n",
              "      <td>100.000000</td>\n",
              "      <td>150.000000</td>\n",
              "      <td>80.000000</td>\n",
              "      <td>0.000000</td>\n",
              "    </tr>\n",
              "    <tr>\n",
              "      <th>25%</th>\n",
              "      <td>48.000000</td>\n",
              "      <td>0.000000</td>\n",
              "      <td>0.000000</td>\n",
              "      <td>120.00000</td>\n",
              "      <td>211.000000</td>\n",
              "      <td>0.00000</td>\n",
              "      <td>0.000000</td>\n",
              "      <td>133.000000</td>\n",
              "      <td>0.000000</td>\n",
              "      <td>0.000000</td>\n",
              "      <td>1.000000</td>\n",
              "      <td>0.000000</td>\n",
              "      <td>2.000000</td>\n",
              "      <td>0.000000</td>\n",
              "      <td>50.000000</td>\n",
              "      <td>120.000000</td>\n",
              "      <td>250.000000</td>\n",
              "      <td>140.000000</td>\n",
              "      <td>0.000000</td>\n",
              "    </tr>\n",
              "    <tr>\n",
              "      <th>50%</th>\n",
              "      <td>56.000000</td>\n",
              "      <td>1.000000</td>\n",
              "      <td>1.000000</td>\n",
              "      <td>130.00000</td>\n",
              "      <td>242.500000</td>\n",
              "      <td>0.00000</td>\n",
              "      <td>1.000000</td>\n",
              "      <td>152.500000</td>\n",
              "      <td>0.000000</td>\n",
              "      <td>0.800000</td>\n",
              "      <td>1.000000</td>\n",
              "      <td>0.000000</td>\n",
              "      <td>2.000000</td>\n",
              "      <td>1.000000</td>\n",
              "      <td>60.000000</td>\n",
              "      <td>130.000000</td>\n",
              "      <td>250.000000</td>\n",
              "      <td>160.000000</td>\n",
              "      <td>1.000000</td>\n",
              "    </tr>\n",
              "    <tr>\n",
              "      <th>75%</th>\n",
              "      <td>61.000000</td>\n",
              "      <td>1.000000</td>\n",
              "      <td>2.000000</td>\n",
              "      <td>140.00000</td>\n",
              "      <td>275.250000</td>\n",
              "      <td>0.00000</td>\n",
              "      <td>1.000000</td>\n",
              "      <td>166.000000</td>\n",
              "      <td>1.000000</td>\n",
              "      <td>1.650000</td>\n",
              "      <td>2.000000</td>\n",
              "      <td>1.000000</td>\n",
              "      <td>3.000000</td>\n",
              "      <td>1.000000</td>\n",
              "      <td>70.000000</td>\n",
              "      <td>140.000000</td>\n",
              "      <td>300.000000</td>\n",
              "      <td>170.000000</td>\n",
              "      <td>2.000000</td>\n",
              "    </tr>\n",
              "    <tr>\n",
              "      <th>max</th>\n",
              "      <td>77.000000</td>\n",
              "      <td>1.000000</td>\n",
              "      <td>3.000000</td>\n",
              "      <td>200.00000</td>\n",
              "      <td>564.000000</td>\n",
              "      <td>1.00000</td>\n",
              "      <td>2.000000</td>\n",
              "      <td>202.000000</td>\n",
              "      <td>1.000000</td>\n",
              "      <td>6.200000</td>\n",
              "      <td>2.000000</td>\n",
              "      <td>3.000000</td>\n",
              "      <td>3.000000</td>\n",
              "      <td>1.000000</td>\n",
              "      <td>80.000000</td>\n",
              "      <td>200.000000</td>\n",
              "      <td>600.000000</td>\n",
              "      <td>210.000000</td>\n",
              "      <td>7.000000</td>\n",
              "    </tr>\n",
              "  </tbody>\n",
              "</table>\n",
              "</div>\n",
              "      <button class=\"colab-df-convert\" onclick=\"convertToInteractive('df-1e5c8d6c-2c65-4a2d-aae5-9bf8a041bbf2')\"\n",
              "              title=\"Convert this dataframe to an interactive table.\"\n",
              "              style=\"display:none;\">\n",
              "        \n",
              "  <svg xmlns=\"http://www.w3.org/2000/svg\" height=\"24px\"viewBox=\"0 0 24 24\"\n",
              "       width=\"24px\">\n",
              "    <path d=\"M0 0h24v24H0V0z\" fill=\"none\"/>\n",
              "    <path d=\"M18.56 5.44l.94 2.06.94-2.06 2.06-.94-2.06-.94-.94-2.06-.94 2.06-2.06.94zm-11 1L8.5 8.5l.94-2.06 2.06-.94-2.06-.94L8.5 2.5l-.94 2.06-2.06.94zm10 10l.94 2.06.94-2.06 2.06-.94-2.06-.94-.94-2.06-.94 2.06-2.06.94z\"/><path d=\"M17.41 7.96l-1.37-1.37c-.4-.4-.92-.59-1.43-.59-.52 0-1.04.2-1.43.59L10.3 9.45l-7.72 7.72c-.78.78-.78 2.05 0 2.83L4 21.41c.39.39.9.59 1.41.59.51 0 1.02-.2 1.41-.59l7.78-7.78 2.81-2.81c.8-.78.8-2.07 0-2.86zM5.41 20L4 18.59l7.72-7.72 1.47 1.35L5.41 20z\"/>\n",
              "  </svg>\n",
              "      </button>\n",
              "      \n",
              "  <style>\n",
              "    .colab-df-container {\n",
              "      display:flex;\n",
              "      flex-wrap:wrap;\n",
              "      gap: 12px;\n",
              "    }\n",
              "\n",
              "    .colab-df-convert {\n",
              "      background-color: #E8F0FE;\n",
              "      border: none;\n",
              "      border-radius: 50%;\n",
              "      cursor: pointer;\n",
              "      display: none;\n",
              "      fill: #1967D2;\n",
              "      height: 32px;\n",
              "      padding: 0 0 0 0;\n",
              "      width: 32px;\n",
              "    }\n",
              "\n",
              "    .colab-df-convert:hover {\n",
              "      background-color: #E2EBFA;\n",
              "      box-shadow: 0px 1px 2px rgba(60, 64, 67, 0.3), 0px 1px 3px 1px rgba(60, 64, 67, 0.15);\n",
              "      fill: #174EA6;\n",
              "    }\n",
              "\n",
              "    [theme=dark] .colab-df-convert {\n",
              "      background-color: #3B4455;\n",
              "      fill: #D2E3FC;\n",
              "    }\n",
              "\n",
              "    [theme=dark] .colab-df-convert:hover {\n",
              "      background-color: #434B5C;\n",
              "      box-shadow: 0px 1px 3px 1px rgba(0, 0, 0, 0.15);\n",
              "      filter: drop-shadow(0px 1px 2px rgba(0, 0, 0, 0.3));\n",
              "      fill: #FFFFFF;\n",
              "    }\n",
              "  </style>\n",
              "\n",
              "      <script>\n",
              "        const buttonEl =\n",
              "          document.querySelector('#df-1e5c8d6c-2c65-4a2d-aae5-9bf8a041bbf2 button.colab-df-convert');\n",
              "        buttonEl.style.display =\n",
              "          google.colab.kernel.accessAllowed ? 'block' : 'none';\n",
              "\n",
              "        async function convertToInteractive(key) {\n",
              "          const element = document.querySelector('#df-1e5c8d6c-2c65-4a2d-aae5-9bf8a041bbf2');\n",
              "          const dataTable =\n",
              "            await google.colab.kernel.invokeFunction('convertToInteractive',\n",
              "                                                     [key], {});\n",
              "          if (!dataTable) return;\n",
              "\n",
              "          const docLinkHtml = 'Like what you see? Visit the ' +\n",
              "            '<a target=\"_blank\" href=https://colab.research.google.com/notebooks/data_table.ipynb>data table notebook</a>'\n",
              "            + ' to learn more about interactive tables.';\n",
              "          element.innerHTML = '';\n",
              "          dataTable['output_type'] = 'display_data';\n",
              "          await google.colab.output.renderOutput(dataTable, element);\n",
              "          const docLink = document.createElement('div');\n",
              "          docLink.innerHTML = docLinkHtml;\n",
              "          element.appendChild(docLink);\n",
              "        }\n",
              "      </script>\n",
              "    </div>\n",
              "  </div>\n",
              "  "
            ]
          },
          "metadata": {},
          "execution_count": 13
        }
      ]
    },
    {
      "cell_type": "code",
      "source": [
        "df[:5]"
      ],
      "metadata": {
        "colab": {
          "base_uri": "https://localhost:8080/",
          "height": 206
        },
        "id": "6nrxP9Wd5CG6",
        "outputId": "4097775b-4843-4875-f17a-634f5fdc08ff"
      },
      "execution_count": 14,
      "outputs": [
        {
          "output_type": "execute_result",
          "data": {
            "text/plain": [
              "   age  sex  cp  trtbps  chol  fbs  restecg  thalachh  exng  oldpeak  slp  \\\n",
              "0   63    1   3     145   233    1        0       150     0      2.3    0   \n",
              "1   37    1   2     130   250    0        1       187     0      3.5    0   \n",
              "2   41    0   1     130   204    0        0       172     0      1.4    2   \n",
              "3   56    1   1     120   236    0        1       178     0      0.8    2   \n",
              "4   57    0   0     120   354    0        1       163     1      0.6    2   \n",
              "\n",
              "   caa  thall  output  age_group  trtbps_group  chol_group  thalachh_group  \\\n",
              "0    0      1       1         70           150         250             150   \n",
              "1    0      2       1         40           130         250             190   \n",
              "2    0      2       1         50           130         250             180   \n",
              "3    0      2       1         60           120         250             180   \n",
              "4    0      2       1         60           120         400             170   \n",
              "\n",
              "   oldpeak_group  \n",
              "0              3  \n",
              "1              4  \n",
              "2              2  \n",
              "3              1  \n",
              "4              1  "
            ],
            "text/html": [
              "\n",
              "  <div id=\"df-fd42becb-5959-4c39-9e41-822fa2bebace\">\n",
              "    <div class=\"colab-df-container\">\n",
              "      <div>\n",
              "<style scoped>\n",
              "    .dataframe tbody tr th:only-of-type {\n",
              "        vertical-align: middle;\n",
              "    }\n",
              "\n",
              "    .dataframe tbody tr th {\n",
              "        vertical-align: top;\n",
              "    }\n",
              "\n",
              "    .dataframe thead th {\n",
              "        text-align: right;\n",
              "    }\n",
              "</style>\n",
              "<table border=\"1\" class=\"dataframe\">\n",
              "  <thead>\n",
              "    <tr style=\"text-align: right;\">\n",
              "      <th></th>\n",
              "      <th>age</th>\n",
              "      <th>sex</th>\n",
              "      <th>cp</th>\n",
              "      <th>trtbps</th>\n",
              "      <th>chol</th>\n",
              "      <th>fbs</th>\n",
              "      <th>restecg</th>\n",
              "      <th>thalachh</th>\n",
              "      <th>exng</th>\n",
              "      <th>oldpeak</th>\n",
              "      <th>slp</th>\n",
              "      <th>caa</th>\n",
              "      <th>thall</th>\n",
              "      <th>output</th>\n",
              "      <th>age_group</th>\n",
              "      <th>trtbps_group</th>\n",
              "      <th>chol_group</th>\n",
              "      <th>thalachh_group</th>\n",
              "      <th>oldpeak_group</th>\n",
              "    </tr>\n",
              "  </thead>\n",
              "  <tbody>\n",
              "    <tr>\n",
              "      <th>0</th>\n",
              "      <td>63</td>\n",
              "      <td>1</td>\n",
              "      <td>3</td>\n",
              "      <td>145</td>\n",
              "      <td>233</td>\n",
              "      <td>1</td>\n",
              "      <td>0</td>\n",
              "      <td>150</td>\n",
              "      <td>0</td>\n",
              "      <td>2.3</td>\n",
              "      <td>0</td>\n",
              "      <td>0</td>\n",
              "      <td>1</td>\n",
              "      <td>1</td>\n",
              "      <td>70</td>\n",
              "      <td>150</td>\n",
              "      <td>250</td>\n",
              "      <td>150</td>\n",
              "      <td>3</td>\n",
              "    </tr>\n",
              "    <tr>\n",
              "      <th>1</th>\n",
              "      <td>37</td>\n",
              "      <td>1</td>\n",
              "      <td>2</td>\n",
              "      <td>130</td>\n",
              "      <td>250</td>\n",
              "      <td>0</td>\n",
              "      <td>1</td>\n",
              "      <td>187</td>\n",
              "      <td>0</td>\n",
              "      <td>3.5</td>\n",
              "      <td>0</td>\n",
              "      <td>0</td>\n",
              "      <td>2</td>\n",
              "      <td>1</td>\n",
              "      <td>40</td>\n",
              "      <td>130</td>\n",
              "      <td>250</td>\n",
              "      <td>190</td>\n",
              "      <td>4</td>\n",
              "    </tr>\n",
              "    <tr>\n",
              "      <th>2</th>\n",
              "      <td>41</td>\n",
              "      <td>0</td>\n",
              "      <td>1</td>\n",
              "      <td>130</td>\n",
              "      <td>204</td>\n",
              "      <td>0</td>\n",
              "      <td>0</td>\n",
              "      <td>172</td>\n",
              "      <td>0</td>\n",
              "      <td>1.4</td>\n",
              "      <td>2</td>\n",
              "      <td>0</td>\n",
              "      <td>2</td>\n",
              "      <td>1</td>\n",
              "      <td>50</td>\n",
              "      <td>130</td>\n",
              "      <td>250</td>\n",
              "      <td>180</td>\n",
              "      <td>2</td>\n",
              "    </tr>\n",
              "    <tr>\n",
              "      <th>3</th>\n",
              "      <td>56</td>\n",
              "      <td>1</td>\n",
              "      <td>1</td>\n",
              "      <td>120</td>\n",
              "      <td>236</td>\n",
              "      <td>0</td>\n",
              "      <td>1</td>\n",
              "      <td>178</td>\n",
              "      <td>0</td>\n",
              "      <td>0.8</td>\n",
              "      <td>2</td>\n",
              "      <td>0</td>\n",
              "      <td>2</td>\n",
              "      <td>1</td>\n",
              "      <td>60</td>\n",
              "      <td>120</td>\n",
              "      <td>250</td>\n",
              "      <td>180</td>\n",
              "      <td>1</td>\n",
              "    </tr>\n",
              "    <tr>\n",
              "      <th>4</th>\n",
              "      <td>57</td>\n",
              "      <td>0</td>\n",
              "      <td>0</td>\n",
              "      <td>120</td>\n",
              "      <td>354</td>\n",
              "      <td>0</td>\n",
              "      <td>1</td>\n",
              "      <td>163</td>\n",
              "      <td>1</td>\n",
              "      <td>0.6</td>\n",
              "      <td>2</td>\n",
              "      <td>0</td>\n",
              "      <td>2</td>\n",
              "      <td>1</td>\n",
              "      <td>60</td>\n",
              "      <td>120</td>\n",
              "      <td>400</td>\n",
              "      <td>170</td>\n",
              "      <td>1</td>\n",
              "    </tr>\n",
              "  </tbody>\n",
              "</table>\n",
              "</div>\n",
              "      <button class=\"colab-df-convert\" onclick=\"convertToInteractive('df-fd42becb-5959-4c39-9e41-822fa2bebace')\"\n",
              "              title=\"Convert this dataframe to an interactive table.\"\n",
              "              style=\"display:none;\">\n",
              "        \n",
              "  <svg xmlns=\"http://www.w3.org/2000/svg\" height=\"24px\"viewBox=\"0 0 24 24\"\n",
              "       width=\"24px\">\n",
              "    <path d=\"M0 0h24v24H0V0z\" fill=\"none\"/>\n",
              "    <path d=\"M18.56 5.44l.94 2.06.94-2.06 2.06-.94-2.06-.94-.94-2.06-.94 2.06-2.06.94zm-11 1L8.5 8.5l.94-2.06 2.06-.94-2.06-.94L8.5 2.5l-.94 2.06-2.06.94zm10 10l.94 2.06.94-2.06 2.06-.94-2.06-.94-.94-2.06-.94 2.06-2.06.94z\"/><path d=\"M17.41 7.96l-1.37-1.37c-.4-.4-.92-.59-1.43-.59-.52 0-1.04.2-1.43.59L10.3 9.45l-7.72 7.72c-.78.78-.78 2.05 0 2.83L4 21.41c.39.39.9.59 1.41.59.51 0 1.02-.2 1.41-.59l7.78-7.78 2.81-2.81c.8-.78.8-2.07 0-2.86zM5.41 20L4 18.59l7.72-7.72 1.47 1.35L5.41 20z\"/>\n",
              "  </svg>\n",
              "      </button>\n",
              "      \n",
              "  <style>\n",
              "    .colab-df-container {\n",
              "      display:flex;\n",
              "      flex-wrap:wrap;\n",
              "      gap: 12px;\n",
              "    }\n",
              "\n",
              "    .colab-df-convert {\n",
              "      background-color: #E8F0FE;\n",
              "      border: none;\n",
              "      border-radius: 50%;\n",
              "      cursor: pointer;\n",
              "      display: none;\n",
              "      fill: #1967D2;\n",
              "      height: 32px;\n",
              "      padding: 0 0 0 0;\n",
              "      width: 32px;\n",
              "    }\n",
              "\n",
              "    .colab-df-convert:hover {\n",
              "      background-color: #E2EBFA;\n",
              "      box-shadow: 0px 1px 2px rgba(60, 64, 67, 0.3), 0px 1px 3px 1px rgba(60, 64, 67, 0.15);\n",
              "      fill: #174EA6;\n",
              "    }\n",
              "\n",
              "    [theme=dark] .colab-df-convert {\n",
              "      background-color: #3B4455;\n",
              "      fill: #D2E3FC;\n",
              "    }\n",
              "\n",
              "    [theme=dark] .colab-df-convert:hover {\n",
              "      background-color: #434B5C;\n",
              "      box-shadow: 0px 1px 3px 1px rgba(0, 0, 0, 0.15);\n",
              "      filter: drop-shadow(0px 1px 2px rgba(0, 0, 0, 0.3));\n",
              "      fill: #FFFFFF;\n",
              "    }\n",
              "  </style>\n",
              "\n",
              "      <script>\n",
              "        const buttonEl =\n",
              "          document.querySelector('#df-fd42becb-5959-4c39-9e41-822fa2bebace button.colab-df-convert');\n",
              "        buttonEl.style.display =\n",
              "          google.colab.kernel.accessAllowed ? 'block' : 'none';\n",
              "\n",
              "        async function convertToInteractive(key) {\n",
              "          const element = document.querySelector('#df-fd42becb-5959-4c39-9e41-822fa2bebace');\n",
              "          const dataTable =\n",
              "            await google.colab.kernel.invokeFunction('convertToInteractive',\n",
              "                                                     [key], {});\n",
              "          if (!dataTable) return;\n",
              "\n",
              "          const docLinkHtml = 'Like what you see? Visit the ' +\n",
              "            '<a target=\"_blank\" href=https://colab.research.google.com/notebooks/data_table.ipynb>data table notebook</a>'\n",
              "            + ' to learn more about interactive tables.';\n",
              "          element.innerHTML = '';\n",
              "          dataTable['output_type'] = 'display_data';\n",
              "          await google.colab.output.renderOutput(dataTable, element);\n",
              "          const docLink = document.createElement('div');\n",
              "          docLink.innerHTML = docLinkHtml;\n",
              "          element.appendChild(docLink);\n",
              "        }\n",
              "      </script>\n",
              "    </div>\n",
              "  </div>\n",
              "  "
            ]
          },
          "metadata": {},
          "execution_count": 14
        }
      ]
    },
    {
      "cell_type": "markdown",
      "source": [
        "# Analysis"
      ],
      "metadata": {
        "id": "Q5e3RpCjiMvJ"
      }
    },
    {
      "cell_type": "code",
      "source": [
        "sexes = pd.DataFrame(df['sex'].value_counts().sort_index())\n",
        "\n",
        "ax = sns.barplot(data=sexes, x=sexes.index, y='sex', palette='summer_r')\n",
        "\n",
        "plt.title('Number of patients by sex')\n",
        "plt.xlabel('')\n",
        "plt.ylabel('')\n",
        "\n",
        "plt.xticks(ticks=range(len(SEX_LABELS)), labels=SEX_LABELS);"
      ],
      "metadata": {
        "colab": {
          "base_uri": "https://localhost:8080/",
          "height": 453
        },
        "id": "t7X62hN9QQhE",
        "outputId": "9fac25cf-ccb5-4a0c-bb27-e5da59aea7e7"
      },
      "execution_count": 15,
      "outputs": [
        {
          "output_type": "display_data",
          "data": {
            "text/plain": [
              "<Figure size 800x500 with 1 Axes>"
            ],
            "image/png": "[encoded data removed]"
          },
          "metadata": {}
        }
      ]
    },
    {
      "cell_type": "code",
      "source": [
        "heart_attack_by_sex('age_group', 'Age group')"
      ],
      "metadata": {
        "colab": {
          "base_uri": "https://localhost:8080/",
          "height": 453
        },
        "id": "Xt69rfHC2uUb",
        "outputId": "aeaf835c-b875-43a1-a4fd-7dc3731b4102"
      },
      "execution_count": 16,
      "outputs": [
        {
          "output_type": "display_data",
          "data": {
            "text/plain": [
              "<Figure size 800x500 with 1 Axes>"
            ],
            "image/png": "[encoded data removed]"
          },
          "metadata": {}
        }
      ]
    },
    {
      "cell_type": "code",
      "source": [
        "heart_attack_by_sex('cp', 'Chest pain type', ['asymptomatic', 'typical angina', 'atypical angina', 'non-anginal pain'])"
      ],
      "metadata": {
        "colab": {
          "base_uri": "https://localhost:8080/",
          "height": 453
        },
        "id": "rFbA_oeHhNCV",
        "outputId": "a449b150-fba8-43ba-be94-f31caebba2ce"
      },
      "execution_count": 17,
      "outputs": [
        {
          "output_type": "display_data",
          "data": {
            "text/plain": [
              "<Figure size 800x500 with 1 Axes>"
            ],
            "image/png": "[encoded data removed]"
          },
          "metadata": {}
        }
      ]
    },
    {
      "cell_type": "code",
      "source": [
        "heart_attack_by_sex('trtbps_group', 'Resting blood pressure group (mm Hg)')"
      ],
      "metadata": {
        "colab": {
          "base_uri": "https://localhost:8080/",
          "height": 453
        },
        "id": "eiRBzPX_SVwB",
        "outputId": "e79b72f7-7d53-435b-b971-c2fbf074a668"
      },
      "execution_count": 18,
      "outputs": [
        {
          "output_type": "display_data",
          "data": {
            "text/plain": [
              "<Figure size 800x500 with 1 Axes>"
            ],
            "image/png": "[encoded data removed]"
          },
          "metadata": {}
        }
      ]
    },
    {
      "cell_type": "code",
      "source": [
        "heart_attack_by_sex('chol_group', 'Cholesterol group (mg/dl)')"
      ],
      "metadata": {
        "colab": {
          "base_uri": "https://localhost:8080/",
          "height": 453
        },
        "id": "EGGSGpFaSVeZ",
        "outputId": "527a188a-be1d-4a08-f93b-a8d1d790353f"
      },
      "execution_count": 19,
      "outputs": [
        {
          "output_type": "display_data",
          "data": {
            "text/plain": [
              "<Figure size 800x500 with 1 Axes>"
            ],
            "image/png": "[encoded data removed]"
          },
          "metadata": {}
        }
      ]
    },
    {
      "cell_type": "code",
      "source": [
        "heart_attack_by_sex('fbs', 'Fasting blood sugar', ['False', 'True'])"
      ],
      "metadata": {
        "colab": {
          "base_uri": "https://localhost:8080/",
          "height": 453
        },
        "id": "M_sC54_ZST48",
        "outputId": "0ecdf1fc-b152-4e60-f4b6-d9fa9851b927"
      },
      "execution_count": 20,
      "outputs": [
        {
          "output_type": "display_data",
          "data": {
            "text/plain": [
              "<Figure size 800x500 with 1 Axes>"
            ],
            "image/png": "[encoded data removed]"
          },
          "metadata": {}
        }
      ]
    },
    {
      "cell_type": "code",
      "source": [
        "heart_attack_by_sex('restecg', 'Resting electrocardiographic results', ['normal', 'ST-T wave abnormality', 'left ventricular hypertrophy'])"
      ],
      "metadata": {
        "colab": {
          "base_uri": "https://localhost:8080/",
          "height": 453
        },
        "id": "1nxwcm_0SUx4",
        "outputId": "801dbc7a-e7ea-4d4a-d2b4-e29728445f22"
      },
      "execution_count": 21,
      "outputs": [
        {
          "output_type": "display_data",
          "data": {
            "text/plain": [
              "<Figure size 800x500 with 1 Axes>"
            ],
            "image/png": "[encoded data removed]"
          },
          "metadata": {}
        }
      ]
    },
    {
      "cell_type": "code",
      "source": [
        "heart_attack_by_sex('thalachh_group', 'Maximum heart rate group')"
      ],
      "metadata": {
        "colab": {
          "base_uri": "https://localhost:8080/",
          "height": 453
        },
        "id": "yIEu75NsbgNU",
        "outputId": "d899ea06-09a9-438b-8099-769504028e2d"
      },
      "execution_count": 22,
      "outputs": [
        {
          "output_type": "display_data",
          "data": {
            "text/plain": [
              "<Figure size 800x500 with 1 Axes>"
            ],
            "image/png": "[encoded data removed]"
          },
          "metadata": {}
        }
      ]
    },
    {
      "cell_type": "code",
      "source": [
        "heart_attack_by_sex('exng', 'Exercise induced angina', ['False', 'True'])"
      ],
      "metadata": {
        "colab": {
          "base_uri": "https://localhost:8080/",
          "height": 453
        },
        "id": "BgJKDSu3bptC",
        "outputId": "365400d9-830f-4870-9400-65bfa3ecec1f"
      },
      "execution_count": 23,
      "outputs": [
        {
          "output_type": "display_data",
          "data": {
            "text/plain": [
              "<Figure size 800x500 with 1 Axes>"
            ],
            "image/png": "[encoded data removed]"
          },
          "metadata": {}
        }
      ]
    },
    {
      "cell_type": "code",
      "source": [
        "heart_attack_by_sex('oldpeak_group', 'ST depression group')"
      ],
      "metadata": {
        "colab": {
          "base_uri": "https://localhost:8080/",
          "height": 458
        },
        "id": "x2IcaWdr-d9o",
        "outputId": "86430954-d222-4c9e-c853-fefda1112347"
      },
      "execution_count": 24,
      "outputs": [
        {
          "output_type": "display_data",
          "data": {
            "text/plain": [
              "<Figure size 800x500 with 1 Axes>"
            ],
            "image/png": "[encoded data removed]"
          },
          "metadata": {}
        }
      ]
    },
    {
      "cell_type": "code",
      "source": [
        "heart_attack_by_sex('slp', 'Slope of the peak exercise ST segment', ['downsloping', 'flat', 'upsloping'])"
      ],
      "metadata": {
        "colab": {
          "base_uri": "https://localhost:8080/",
          "height": 457
        },
        "id": "pk-u5Xg7-dyd",
        "outputId": "23b13e86-896f-475e-abc4-e4f752267c83"
      },
      "execution_count": 25,
      "outputs": [
        {
          "output_type": "display_data",
          "data": {
            "text/plain": [
              "<Figure size 800x500 with 1 Axes>"
            ],
            "image/png": "[encoded data removed]"
          },
          "metadata": {}
        }
      ]
    },
    {
      "cell_type": "code",
      "source": [
        "heart_attack_by_sex('caa', 'Number of major vessels colored by flourosopy')"
      ],
      "metadata": {
        "colab": {
          "base_uri": "https://localhost:8080/",
          "height": 458
        },
        "id": "k_xlvBtgbpwK",
        "outputId": "8fe62e76-87fd-41b1-8133-b0a1a376ce5b"
      },
      "execution_count": 26,
      "outputs": [
        {
          "output_type": "display_data",
          "data": {
            "text/plain": [
              "<Figure size 800x500 with 1 Axes>"
            ],
            "image/png": "[encoded data removed]"
          },
          "metadata": {}
        }
      ]
    },
    {
      "cell_type": "code",
      "source": [
        "heart_attack_by_sex('thall', 'Thalium stress test result', ['fixed defect', 'normal', 'reversable defect'])"
      ],
      "metadata": {
        "colab": {
          "base_uri": "https://localhost:8080/",
          "height": 453
        },
        "id": "0hP-_cTw-doP",
        "outputId": "0b995d88-48d4-4f39-8ec3-539b248637c8"
      },
      "execution_count": 27,
      "outputs": [
        {
          "output_type": "display_data",
          "data": {
            "text/plain": [
              "<Figure size 800x500 with 1 Axes>"
            ],
            "image/png": "[encoded data removed]"
          },
          "metadata": {}
        }
      ]
    },
    {
      "cell_type": "markdown",
      "source": [
        "# Reformat data"
      ],
      "metadata": {
        "id": "pR_hp3JkHIIU"
      }
    },
    {
      "cell_type": "markdown",
      "source": [
        "## Train and test split"
      ],
      "metadata": {
        "id": "rji6eeuYTlZw"
      }
    },
    {
      "cell_type": "code",
      "source": [
        "df.drop(['age_group', 'trtbps_group', 'chol_group', 'thalachh_group', 'oldpeak_group'], axis=1, inplace=True)\n",
        "\n",
        "X = df.drop('output', axis=1)\n",
        "y = df['output']\n",
        "\n",
        "X_train, X_test, y_train, y_test = train_test_split(X, y, test_size=0.2, random_state=SEED)"
      ],
      "metadata": {
        "id": "NWWKDtbpOm3S"
      },
      "execution_count": 28,
      "outputs": []
    },
    {
      "cell_type": "markdown",
      "source": [
        "## Scaling"
      ],
      "metadata": {
        "id": "w-vGRSdTG1fe"
      }
    },
    {
      "cell_type": "code",
      "source": [
        "scaler = StandardScaler()\n",
        "\n",
        "X_train = scaler.fit_transform(X_train)\n",
        "X_test  = scaler.transform(X_test)"
      ],
      "metadata": {
        "id": "dVADdbXRGy6D"
      },
      "execution_count": 29,
      "outputs": []
    },
    {
      "cell_type": "markdown",
      "source": [
        "## Datasets"
      ],
      "metadata": {
        "id": "cAEK_MqYGkT2"
      }
    },
    {
      "cell_type": "code",
      "source": [
        "dataset_X_train = Dataset.from_tensor_slices(X_train)\n",
        "dataset_X_test  = Dataset.from_tensor_slices(X_test)\n",
        "dataset_y_train = Dataset.from_tensor_slices(y_train)\n",
        "dataset_y_test  = Dataset.from_tensor_slices(y_test)\n",
        "\n",
        "dataset_train = Dataset.zip((dataset_X_train, dataset_y_train))\n",
        "dataset_test  = Dataset.zip((dataset_X_test, dataset_y_test))\n",
        "\n",
        "dataset_train = dataset_train.batch(BATCH_SIZE).prefetch(AUTOTUNE)\n",
        "dataset_test  = dataset_test.batch(BATCH_SIZE).prefetch(AUTOTUNE)"
      ],
      "metadata": {
        "id": "ALJycqa-GkT3"
      },
      "execution_count": 30,
      "outputs": []
    },
    {
      "cell_type": "markdown",
      "source": [
        "# Classification models"
      ],
      "metadata": {
        "id": "-IZi-uR5-Dy9"
      }
    },
    {
      "cell_type": "code",
      "source": [
        "evaluations = [None] * 10"
      ],
      "metadata": {
        "id": "ftMB7yYZiNuz"
      },
      "execution_count": 31,
      "outputs": []
    },
    {
      "cell_type": "markdown",
      "source": [
        "## Model 0: KNN"
      ],
      "metadata": {
        "id": "Yk0qpC51Uvu_"
      }
    },
    {
      "cell_type": "code",
      "source": [
        "%%time\n",
        "\n",
        "knn = KNeighborsClassifier(n_neighbors=12)\n",
        "\n",
        "knn.fit(X_train, y_train)\n",
        "\n",
        "y_pred = knn.predict(X_test)"
      ],
      "metadata": {
        "colab": {
          "base_uri": "https://localhost:8080/"
        },
        "id": "sxS70o57ZT33",
        "outputId": "b5bad045-c045-4b20-8780-659e39aa2f54"
      },
      "execution_count": 32,
      "outputs": [
        {
          "output_type": "stream",
          "name": "stdout",
          "text": [
            "CPU times: user 6.22 ms, sys: 0 ns, total: 6.22 ms\n",
            "Wall time: 12.6 ms\n"
          ]
        }
      ]
    },
    {
      "cell_type": "code",
      "source": [
        "evaluations[0] = evaluate_model(y_test, y_pred, True)"
      ],
      "metadata": {
        "colab": {
          "base_uri": "https://localhost:8080/",
          "height": 608
        },
        "id": "GO_I9wtv1Zii",
        "outputId": "c7f1023b-efc2-46ba-816f-e6cfd7ad2d26"
      },
      "execution_count": 33,
      "outputs": [
        {
          "output_type": "stream",
          "name": "stdout",
          "text": [
            "              precision    recall  f1-score   support\n",
            "\n",
            "           0       0.90      0.84      0.87        32\n",
            "           1       0.83      0.89      0.86        28\n",
            "\n",
            "    accuracy                           0.87        60\n",
            "   macro avg       0.87      0.87      0.87        60\n",
            "weighted avg       0.87      0.87      0.87        60\n",
            "\n"
          ]
        },
        {
          "output_type": "display_data",
          "data": {
            "text/plain": [
              "<Figure size 800x500 with 2 Axes>"
            ],
            "image/png": "[encoded data removed]"
          },
          "metadata": {}
        }
      ]
    },
    {
      "cell_type": "code",
      "source": [
        "evaluations[0]"
      ],
      "metadata": {
        "colab": {
          "base_uri": "https://localhost:8080/"
        },
        "id": "YDlLSAt6guIP",
        "outputId": "b1a43cbb-dbfa-49c5-e69c-3a0e21841b34"
      },
      "execution_count": 34,
      "outputs": [
        {
          "output_type": "execute_result",
          "data": {
            "text/plain": [
              "{'accuracy': 0.8666666666666667,\n",
              " 'precision': 0.868888888888889,\n",
              " 'recall': 0.8666666666666667,\n",
              " 'f1-score': 0.8668149796069708}"
            ]
          },
          "metadata": {},
          "execution_count": 34
        }
      ]
    },
    {
      "cell_type": "markdown",
      "source": [
        "## Model 1: Ridge"
      ],
      "metadata": {
        "id": "bG4cmYUEjKRE"
      }
    },
    {
      "cell_type": "code",
      "source": [
        "%%time\n",
        "\n",
        "rid = RidgeClassifier(alpha=0.0, fit_intercept=False, random_state=SEED)\n",
        "\n",
        "rid.fit(X_train, y_train)\n",
        "\n",
        "y_pred = rid.predict(X_test)"
      ],
      "metadata": {
        "colab": {
          "base_uri": "https://localhost:8080/"
        },
        "id": "5FhYi1RQ1gyb",
        "outputId": "1fb17fb2-d4f3-4d0c-f158-ac60520c9626"
      },
      "execution_count": 35,
      "outputs": [
        {
          "output_type": "stream",
          "name": "stdout",
          "text": [
            "CPU times: user 3.15 ms, sys: 30 µs, total: 3.18 ms\n",
            "Wall time: 3.2 ms\n"
          ]
        }
      ]
    },
    {
      "cell_type": "code",
      "source": [
        "evaluations[1] = evaluate_model(y_test, y_pred, True)"
      ],
      "metadata": {
        "colab": {
          "base_uri": "https://localhost:8080/",
          "height": 608
        },
        "id": "O05ZbmJW4wES",
        "outputId": "f6a2ec9c-1744-41e7-e91a-d3318133e43d"
      },
      "execution_count": 36,
      "outputs": [
        {
          "output_type": "stream",
          "name": "stdout",
          "text": [
            "              precision    recall  f1-score   support\n",
            "\n",
            "           0       0.90      0.81      0.85        32\n",
            "           1       0.81      0.89      0.85        28\n",
            "\n",
            "    accuracy                           0.85        60\n",
            "   macro avg       0.85      0.85      0.85        60\n",
            "weighted avg       0.85      0.85      0.85        60\n",
            "\n"
          ]
        },
        {
          "output_type": "display_data",
          "data": {
            "text/plain": [
              "<Figure size 800x500 with 2 Axes>"
            ],
            "image/png": "[encoded data removed]"
          },
          "metadata": {}
        }
      ]
    },
    {
      "cell_type": "code",
      "source": [
        "evaluations[1]"
      ],
      "metadata": {
        "colab": {
          "base_uri": "https://localhost:8080/"
        },
        "id": "HXvskgN340t6",
        "outputId": "3d4a51db-5c35-4aaa-d56d-eec41d398145"
      },
      "execution_count": 37,
      "outputs": [
        {
          "output_type": "execute_result",
          "data": {
            "text/plain": [
              "{'accuracy': 0.85,\n",
              " 'precision': 0.8545050055617353,\n",
              " 'recall': 0.85,\n",
              " 'f1-score': 0.8501250347318698}"
            ]
          },
          "metadata": {},
          "execution_count": 37
        }
      ]
    },
    {
      "cell_type": "markdown",
      "source": [
        "## Model 2: SVM"
      ],
      "metadata": {
        "id": "W4JhPsZ941CB"
      }
    },
    {
      "cell_type": "code",
      "source": [
        "%%time\n",
        "\n",
        "svm = SVC(C=4.0, kernel='sigmoid', random_state=SEED)\n",
        "\n",
        "svm.fit(X_train, y_train)\n",
        "\n",
        "y_pred = svm.predict(X_test)"
      ],
      "metadata": {
        "colab": {
          "base_uri": "https://localhost:8080/"
        },
        "id": "_ZS_t3BU6yyC",
        "outputId": "a65e2796-9057-4d57-ff1c-a866466863b9"
      },
      "execution_count": 38,
      "outputs": [
        {
          "output_type": "stream",
          "name": "stdout",
          "text": [
            "CPU times: user 5.37 ms, sys: 1.88 ms, total: 7.25 ms\n",
            "Wall time: 7.76 ms\n"
          ]
        }
      ]
    },
    {
      "cell_type": "code",
      "source": [
        "evaluations[2] = evaluate_model(y_test, y_pred, True)"
      ],
      "metadata": {
        "colab": {
          "base_uri": "https://localhost:8080/",
          "height": 608
        },
        "id": "DRcb_gF98GcX",
        "outputId": "13ae438e-20e0-458c-dd7e-299ae40228cd"
      },
      "execution_count": 39,
      "outputs": [
        {
          "output_type": "stream",
          "name": "stdout",
          "text": [
            "              precision    recall  f1-score   support\n",
            "\n",
            "           0       0.93      0.84      0.89        32\n",
            "           1       0.84      0.93      0.88        28\n",
            "\n",
            "    accuracy                           0.88        60\n",
            "   macro avg       0.88      0.89      0.88        60\n",
            "weighted avg       0.89      0.88      0.88        60\n",
            "\n"
          ]
        },
        {
          "output_type": "display_data",
          "data": {
            "text/plain": [
              "<Figure size 800x500 with 2 Axes>"
            ],
            "image/png": "[encoded data removed]"
          },
          "metadata": {}
        }
      ]
    },
    {
      "cell_type": "code",
      "source": [
        "evaluations[2]"
      ],
      "metadata": {
        "colab": {
          "base_uri": "https://localhost:8080/"
        },
        "id": "bOYcYdNh8GwN",
        "outputId": "0b596449-fe25-4751-def3-7bfa07ed553d"
      },
      "execution_count": 40,
      "outputs": [
        {
          "output_type": "execute_result",
          "data": {
            "text/plain": [
              "{'accuracy': 0.8833333333333333,\n",
              " 'precision': 0.8879495736002966,\n",
              " 'recall': 0.8833333333333333,\n",
              " 'f1-score': 0.8834305825692323}"
            ]
          },
          "metadata": {},
          "execution_count": 40
        }
      ]
    },
    {
      "cell_type": "markdown",
      "source": [
        "## Model 3: Multi-layer Perceptron"
      ],
      "metadata": {
        "id": "BR9_hCX8UmFo"
      }
    },
    {
      "cell_type": "code",
      "source": [
        "%%time\n",
        "\n",
        "mlp = MLPClassifier(hidden_layer_sizes=120, activation='relu', solver='sgd', learning_rate_init=0.001, max_iter=700, random_state=SEED)\n",
        "\n",
        "mlp.fit(X_train, y_train)\n",
        "\n",
        "y_pred = mlp.predict(X_test)"
      ],
      "metadata": {
        "colab": {
          "base_uri": "https://localhost:8080/"
        },
        "id": "vnwl4uHAUobV",
        "outputId": "49bd65a0-16bc-46d2-c5d3-ad299fd138be"
      },
      "execution_count": 41,
      "outputs": [
        {
          "output_type": "stream",
          "name": "stdout",
          "text": [
            "CPU times: user 1.65 s, sys: 1.59 s, total: 3.24 s\n",
            "Wall time: 4.56 s\n"
          ]
        }
      ]
    },
    {
      "cell_type": "code",
      "source": [
        "evaluations[3] = evaluate_model(y_test, y_pred, True)"
      ],
      "metadata": {
        "id": "gMGJy0_yddCY",
        "colab": {
          "base_uri": "https://localhost:8080/",
          "height": 608
        },
        "outputId": "f2571c88-4e6a-445d-bf8c-93ba2e694b46"
      },
      "execution_count": 42,
      "outputs": [
        {
          "output_type": "stream",
          "name": "stdout",
          "text": [
            "              precision    recall  f1-score   support\n",
            "\n",
            "           0       0.93      0.81      0.87        32\n",
            "           1       0.81      0.93      0.87        28\n",
            "\n",
            "    accuracy                           0.87        60\n",
            "   macro avg       0.87      0.87      0.87        60\n",
            "weighted avg       0.87      0.87      0.87        60\n",
            "\n"
          ]
        },
        {
          "output_type": "display_data",
          "data": {
            "text/plain": [
              "<Figure size 800x500 with 2 Axes>"
            ],
            "image/png": "[encoded data removed]"
          },
          "metadata": {}
        }
      ]
    },
    {
      "cell_type": "code",
      "source": [
        "evaluations[3]"
      ],
      "metadata": {
        "id": "JtXDDAM0ddcy",
        "colab": {
          "base_uri": "https://localhost:8080/"
        },
        "outputId": "69e19853-2990-4518-9c0e-067376aedf75"
      },
      "execution_count": 43,
      "outputs": [
        {
          "output_type": "execute_result",
          "data": {
            "text/plain": [
              "{'accuracy': 0.8666666666666667,\n",
              " 'precision': 0.8744047619047619,\n",
              " 'recall': 0.8666666666666667,\n",
              " 'f1-score': 0.8666666666666667}"
            ]
          },
          "metadata": {},
          "execution_count": 43
        }
      ]
    },
    {
      "cell_type": "markdown",
      "source": [
        "## Model 4: Dense"
      ],
      "metadata": {
        "id": "DHKAa93myXoX"
      }
    },
    {
      "cell_type": "code",
      "source": [
        "%%time\n",
        "\n",
        "tf.random.set_seed(SEED)\n",
        "\n",
        "tfd = Sequential()\n",
        "\n",
        "[tfd.add(Dense(units=LAYER_UNITS, kernel_initializer=LAYER_INITIALIZER, activation=LAYER_ACTIVATION)) for _ in range(LAYERS)]\n",
        "tfd.add(Dense(units=OUTPUT_UNITS, activation=OUTPUT_ACTIVATION))\n",
        "\n",
        "tfd.compile(loss=LOSS,\n",
        "            optimizer=OPTIMIZER(learning_rate=LEARNING_RATE),\n",
        "            metrics=METRICS)\n",
        "\n",
        "tfd.fit(dataset_train,\n",
        "        epochs=EPOCHS,\n",
        "        validation_data=dataset_test,\n",
        "        callbacks=[EarlyStopping(monitor='val_loss', patience=100, restore_best_weights=True),\n",
        "                   ReduceLROnPlateau(monitor='val_loss', patience=50)],\n",
        "        verbose=0)\n",
        "\n",
        "y_pred = tf.round(tfd.predict(dataset_test, verbose=0))"
      ],
      "metadata": {
        "colab": {
          "base_uri": "https://localhost:8080/"
        },
        "id": "S1ed2gWgyaEL",
        "outputId": "55220455-5c03-4229-cd07-ee240c64bf5a"
      },
      "execution_count": 44,
      "outputs": [
        {
          "output_type": "stream",
          "name": "stdout",
          "text": [
            "CPU times: user 22.2 s, sys: 2.07 s, total: 24.3 s\n",
            "Wall time: 28 s\n"
          ]
        }
      ]
    },
    {
      "cell_type": "code",
      "source": [
        "evaluations[4] = evaluate_model(y_test, y_pred, True)"
      ],
      "metadata": {
        "colab": {
          "base_uri": "https://localhost:8080/",
          "height": 608
        },
        "id": "SVb3dz_KAghe",
        "outputId": "1ee67d78-6dfa-4997-b6ba-e40a45030488"
      },
      "execution_count": 45,
      "outputs": [
        {
          "output_type": "stream",
          "name": "stdout",
          "text": [
            "              precision    recall  f1-score   support\n",
            "\n",
            "           0       0.87      0.81      0.84        32\n",
            "           1       0.80      0.86      0.83        28\n",
            "\n",
            "    accuracy                           0.83        60\n",
            "   macro avg       0.83      0.83      0.83        60\n",
            "weighted avg       0.84      0.83      0.83        60\n",
            "\n"
          ]
        },
        {
          "output_type": "display_data",
          "data": {
            "text/plain": [
              "<Figure size 800x500 with 2 Axes>"
            ],
            "image/png": "[encoded data removed]"
          },
          "metadata": {}
        }
      ]
    },
    {
      "cell_type": "code",
      "source": [
        "evaluations[4]"
      ],
      "metadata": {
        "colab": {
          "base_uri": "https://localhost:8080/"
        },
        "id": "03grzai2Aidi",
        "outputId": "c7a632a1-5d82-422a-a3f7-051f06f56a6c"
      },
      "execution_count": 46,
      "outputs": [
        {
          "output_type": "execute_result",
          "data": {
            "text/plain": [
              "{'accuracy': 0.8333333333333334,\n",
              " 'precision': 0.8355555555555557,\n",
              " 'recall': 0.8333333333333334,\n",
              " 'f1-score': 0.8335187245087134}"
            ]
          },
          "metadata": {},
          "execution_count": 46
        }
      ]
    },
    {
      "cell_type": "markdown",
      "source": [
        "## Model 5: Ensemble"
      ],
      "metadata": {
        "id": "Zq9LhWJSHaay"
      }
    },
    {
      "cell_type": "code",
      "source": [
        "%%time\n",
        "\n",
        "ensemble_models = get_ensemble(train_data=dataset_train, validation_data=dataset_test, n_models=10)"
      ],
      "metadata": {
        "colab": {
          "base_uri": "https://localhost:8080/"
        },
        "id": "UpKEhLxhHch3",
        "outputId": "03a5930c-37f3-4753-9154-74728f9e51d1"
      },
      "execution_count": 47,
      "outputs": [
        {
          "output_type": "stream",
          "name": "stdout",
          "text": [
            "CPU times: user 2min 48s, sys: 13.5 s, total: 3min 1s\n",
            "Wall time: 2min 48s\n"
          ]
        }
      ]
    },
    {
      "cell_type": "code",
      "source": [
        "ensemble_preds = get_preds(ensemble_models=ensemble_models, validation_data=dataset_test)\n",
        "\n",
        "y_pred = tf.round(tf.reduce_mean(ensemble_preds, axis=0))"
      ],
      "metadata": {
        "colab": {
          "base_uri": "https://localhost:8080/"
        },
        "id": "VQoN9NnkHk8z",
        "outputId": "3be44c3b-39ef-4948-f7ae-9a722526c4b9"
      },
      "execution_count": 48,
      "outputs": [
        {
          "output_type": "stream",
          "name": "stderr",
          "text": [
            "WARNING:tensorflow:5 out of the last 9 calls to <function Model.make_predict_function.<locals>.predict_function at 0x7f38c42684c0> triggered tf.function retracing. Tracing is expensive and the excessive number of tracings could be due to (1) creating @tf.function repeatedly in a loop, (2) passing tensors with different shapes, (3) passing Python objects instead of tensors. For (1), please define your @tf.function outside of the loop. For (2), @tf.function has reduce_retracing=True option that can avoid unnecessary retracing. For (3), please refer to https://www.tensorflow.org/guide/function#controlling_retracing and https://www.tensorflow.org/api_docs/python/tf/function for  more details.\n",
            "WARNING:tensorflow:6 out of the last 11 calls to <function Model.make_predict_function.<locals>.predict_function at 0x7f38c4268a60> triggered tf.function retracing. Tracing is expensive and the excessive number of tracings could be due to (1) creating @tf.function repeatedly in a loop, (2) passing tensors with different shapes, (3) passing Python objects instead of tensors. For (1), please define your @tf.function outside of the loop. For (2), @tf.function has reduce_retracing=True option that can avoid unnecessary retracing. For (3), please refer to https://www.tensorflow.org/guide/function#controlling_retracing and https://www.tensorflow.org/api_docs/python/tf/function for  more details.\n"
          ]
        }
      ]
    },
    {
      "cell_type": "code",
      "source": [
        "evaluations[5] = evaluate_model(y_test, y_pred, True)"
      ],
      "metadata": {
        "colab": {
          "base_uri": "https://localhost:8080/",
          "height": 608
        },
        "id": "Ry7ZzADHHsJK",
        "outputId": "5035516a-961c-417f-d5c6-f84fe26a4ba1"
      },
      "execution_count": 49,
      "outputs": [
        {
          "output_type": "stream",
          "name": "stdout",
          "text": [
            "              precision    recall  f1-score   support\n",
            "\n",
            "           0       0.90      0.81      0.85        32\n",
            "           1       0.81      0.89      0.85        28\n",
            "\n",
            "    accuracy                           0.85        60\n",
            "   macro avg       0.85      0.85      0.85        60\n",
            "weighted avg       0.85      0.85      0.85        60\n",
            "\n"
          ]
        },
        {
          "output_type": "display_data",
          "data": {
            "text/plain": [
              "<Figure size 800x500 with 2 Axes>"
            ],
            "image/png": "[encoded data removed]"
          },
          "metadata": {}
        }
      ]
    },
    {
      "cell_type": "code",
      "source": [
        "evaluations[5]"
      ],
      "metadata": {
        "colab": {
          "base_uri": "https://localhost:8080/"
        },
        "id": "IXIO0uT7ImtO",
        "outputId": "c18e48dd-9b50-4930-df3f-bc073a71f2ca"
      },
      "execution_count": 50,
      "outputs": [
        {
          "output_type": "execute_result",
          "data": {
            "text/plain": [
              "{'accuracy': 0.85,\n",
              " 'precision': 0.8545050055617353,\n",
              " 'recall': 0.85,\n",
              " 'f1-score': 0.8501250347318698}"
            ]
          },
          "metadata": {},
          "execution_count": 50
        }
      ]
    },
    {
      "cell_type": "markdown",
      "source": [
        "# Comparing models"
      ],
      "metadata": {
        "id": "WPqSJZ6tb3mw"
      }
    },
    {
      "cell_type": "code",
      "source": [
        "df_evaluations = pd.DataFrame([e for e in evaluations if e is not None])\n",
        "df_evaluations.T"
      ],
      "metadata": {
        "id": "gGpdJZvsb69d",
        "colab": {
          "base_uri": "https://localhost:8080/",
          "height": 175
        },
        "outputId": "c756f271-d657-4a64-dcec-dc13a4e3bf8b"
      },
      "execution_count": 51,
      "outputs": [
        {
          "output_type": "execute_result",
          "data": {
            "text/plain": [
              "                  0         1         2         3         4         5\n",
              "accuracy   0.866667  0.850000  0.883333  0.866667  0.833333  0.850000\n",
              "precision  0.868889  0.854505  0.887950  0.874405  0.835556  0.854505\n",
              "recall     0.866667  0.850000  0.883333  0.866667  0.833333  0.850000\n",
              "f1-score   0.866815  0.850125  0.883431  0.866667  0.833519  0.850125"
            ],
            "text/html": [
              "\n",
              "  <div id=\"df-333eb700-3cce-43ca-bded-c31f5b07a538\">\n",
              "    <div class=\"colab-df-container\">\n",
              "      <div>\n",
              "<style scoped>\n",
              "    .dataframe tbody tr th:only-of-type {\n",
              "        vertical-align: middle;\n",
              "    }\n",
              "\n",
              "    .dataframe tbody tr th {\n",
              "        vertical-align: top;\n",
              "    }\n",
              "\n",
              "    .dataframe thead th {\n",
              "        text-align: right;\n",
              "    }\n",
              "</style>\n",
              "<table border=\"1\" class=\"dataframe\">\n",
              "  <thead>\n",
              "    <tr style=\"text-align: right;\">\n",
              "      <th></th>\n",
              "      <th>0</th>\n",
              "      <th>1</th>\n",
              "      <th>2</th>\n",
              "      <th>3</th>\n",
              "      <th>4</th>\n",
              "      <th>5</th>\n",
              "    </tr>\n",
              "  </thead>\n",
              "  <tbody>\n",
              "    <tr>\n",
              "      <th>accuracy</th>\n",
              "      <td>0.866667</td>\n",
              "      <td>0.850000</td>\n",
              "      <td>0.883333</td>\n",
              "      <td>0.866667</td>\n",
              "      <td>0.833333</td>\n",
              "      <td>0.850000</td>\n",
              "    </tr>\n",
              "    <tr>\n",
              "      <th>precision</th>\n",
              "      <td>0.868889</td>\n",
              "      <td>0.854505</td>\n",
              "      <td>0.887950</td>\n",
              "      <td>0.874405</td>\n",
              "      <td>0.835556</td>\n",
              "      <td>0.854505</td>\n",
              "    </tr>\n",
              "    <tr>\n",
              "      <th>recall</th>\n",
              "      <td>0.866667</td>\n",
              "      <td>0.850000</td>\n",
              "      <td>0.883333</td>\n",
              "      <td>0.866667</td>\n",
              "      <td>0.833333</td>\n",
              "      <td>0.850000</td>\n",
              "    </tr>\n",
              "    <tr>\n",
              "      <th>f1-score</th>\n",
              "      <td>0.866815</td>\n",
              "      <td>0.850125</td>\n",
              "      <td>0.883431</td>\n",
              "      <td>0.866667</td>\n",
              "      <td>0.833519</td>\n",
              "      <td>0.850125</td>\n",
              "    </tr>\n",
              "  </tbody>\n",
              "</table>\n",
              "</div>\n",
              "      <button class=\"colab-df-convert\" onclick=\"convertToInteractive('df-333eb700-3cce-43ca-bded-c31f5b07a538')\"\n",
              "              title=\"Convert this dataframe to an interactive table.\"\n",
              "              style=\"display:none;\">\n",
              "        \n",
              "  <svg xmlns=\"http://www.w3.org/2000/svg\" height=\"24px\"viewBox=\"0 0 24 24\"\n",
              "       width=\"24px\">\n",
              "    <path d=\"M0 0h24v24H0V0z\" fill=\"none\"/>\n",
              "    <path d=\"M18.56 5.44l.94 2.06.94-2.06 2.06-.94-2.06-.94-.94-2.06-.94 2.06-2.06.94zm-11 1L8.5 8.5l.94-2.06 2.06-.94-2.06-.94L8.5 2.5l-.94 2.06-2.06.94zm10 10l.94 2.06.94-2.06 2.06-.94-2.06-.94-.94-2.06-.94 2.06-2.06.94z\"/><path d=\"M17.41 7.96l-1.37-1.37c-.4-.4-.92-.59-1.43-.59-.52 0-1.04.2-1.43.59L10.3 9.45l-7.72 7.72c-.78.78-.78 2.05 0 2.83L4 21.41c.39.39.9.59 1.41.59.51 0 1.02-.2 1.41-.59l7.78-7.78 2.81-2.81c.8-.78.8-2.07 0-2.86zM5.41 20L4 18.59l7.72-7.72 1.47 1.35L5.41 20z\"/>\n",
              "  </svg>\n",
              "      </button>\n",
              "      \n",
              "  <style>\n",
              "    .colab-df-container {\n",
              "      display:flex;\n",
              "      flex-wrap:wrap;\n",
              "      gap: 12px;\n",
              "    }\n",
              "\n",
              "    .colab-df-convert {\n",
              "      background-color: #E8F0FE;\n",
              "      border: none;\n",
              "      border-radius: 50%;\n",
              "      cursor: pointer;\n",
              "      display: none;\n",
              "      fill: #1967D2;\n",
              "      height: 32px;\n",
              "      padding: 0 0 0 0;\n",
              "      width: 32px;\n",
              "    }\n",
              "\n",
              "    .colab-df-convert:hover {\n",
              "      background-color: #E2EBFA;\n",
              "      box-shadow: 0px 1px 2px rgba(60, 64, 67, 0.3), 0px 1px 3px 1px rgba(60, 64, 67, 0.15);\n",
              "      fill: #174EA6;\n",
              "    }\n",
              "\n",
              "    [theme=dark] .colab-df-convert {\n",
              "      background-color: #3B4455;\n",
              "      fill: #D2E3FC;\n",
              "    }\n",
              "\n",
              "    [theme=dark] .colab-df-convert:hover {\n",
              "      background-color: #434B5C;\n",
              "      box-shadow: 0px 1px 3px 1px rgba(0, 0, 0, 0.15);\n",
              "      filter: drop-shadow(0px 1px 2px rgba(0, 0, 0, 0.3));\n",
              "      fill: #FFFFFF;\n",
              "    }\n",
              "  </style>\n",
              "\n",
              "      <script>\n",
              "        const buttonEl =\n",
              "          document.querySelector('#df-333eb700-3cce-43ca-bded-c31f5b07a538 button.colab-df-convert');\n",
              "        buttonEl.style.display =\n",
              "          google.colab.kernel.accessAllowed ? 'block' : 'none';\n",
              "\n",
              "        async function convertToInteractive(key) {\n",
              "          const element = document.querySelector('#df-333eb700-3cce-43ca-bded-c31f5b07a538');\n",
              "          const dataTable =\n",
              "            await google.colab.kernel.invokeFunction('convertToInteractive',\n",
              "                                                     [key], {});\n",
              "          if (!dataTable) return;\n",
              "\n",
              "          const docLinkHtml = 'Like what you see? Visit the ' +\n",
              "            '<a target=\"_blank\" href=https://colab.research.google.com/notebooks/data_table.ipynb>data table notebook</a>'\n",
              "            + ' to learn more about interactive tables.';\n",
              "          element.innerHTML = '';\n",
              "          dataTable['output_type'] = 'display_data';\n",
              "          await google.colab.output.renderOutput(dataTable, element);\n",
              "          const docLink = document.createElement('div');\n",
              "          docLink.innerHTML = docLinkHtml;\n",
              "          element.appendChild(docLink);\n",
              "        }\n",
              "      </script>\n",
              "    </div>\n",
              "  </div>\n",
              "  "
            ]
          },
          "metadata": {},
          "execution_count": 51
        }
      ]
    },
    {
      "cell_type": "code",
      "source": [
        "# Recall is a better index for medical research, because penalizes false negatives.\n",
        "\n",
        "df_evaluations['recall'].sort_values(ascending=False)"
      ],
      "metadata": {
        "colab": {
          "base_uri": "https://localhost:8080/"
        },
        "id": "fQcZwQVVHGYW",
        "outputId": "13e287d7-2a85-4206-df17-dad0d02d8fbb"
      },
      "execution_count": 52,
      "outputs": [
        {
          "output_type": "execute_result",
          "data": {
            "text/plain": [
              "2    0.883333\n",
              "0    0.866667\n",
              "3    0.866667\n",
              "1    0.850000\n",
              "5    0.850000\n",
              "4    0.833333\n",
              "Name: recall, dtype: float64"
            ]
          },
          "metadata": {},
          "execution_count": 52
        }
      ]
    },
    {
      "cell_type": "code",
      "source": [],
      "metadata": {
        "id": "cY5sMCUh6Cid"
      },
      "execution_count": 52,
      "outputs": []
    }
  ]
}